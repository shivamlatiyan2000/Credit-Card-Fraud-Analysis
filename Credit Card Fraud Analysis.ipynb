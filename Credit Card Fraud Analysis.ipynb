{
 "cells": [
  {
   "cell_type": "code",
   "execution_count": 1,
   "id": "e7141a3f",
   "metadata": {},
   "outputs": [],
   "source": [
    "import pandas as pd\n",
    "import numpy as np\n",
    "import matplotlib.pyplot as plt\n",
    "import seaborn as sns"
   ]
  },
  {
   "cell_type": "code",
   "execution_count": 3,
   "id": "a6e3a4e2",
   "metadata": {},
   "outputs": [],
   "source": [
    "df=pd.read_csv('credit_card_fraud.csv')"
   ]
  },
  {
   "cell_type": "code",
   "execution_count": 4,
   "id": "7407b5cc",
   "metadata": {},
   "outputs": [
    {
     "data": {
      "text/plain": [
       "(8000, 20)"
      ]
     },
     "execution_count": 4,
     "metadata": {},
     "output_type": "execute_result"
    }
   ],
   "source": [
    "df.shape"
   ]
  },
  {
   "cell_type": "code",
   "execution_count": 5,
   "id": "a0b1e33b",
   "metadata": {},
   "outputs": [
    {
     "name": "stdout",
     "output_type": "stream",
     "text": [
      "<class 'pandas.core.frame.DataFrame'>\n",
      "RangeIndex: 8000 entries, 0 to 7999\n",
      "Data columns (total 20 columns):\n",
      " #   Column                                   Non-Null Count  Dtype  \n",
      "---  ------                                   --------------  -----  \n",
      " 0   Transaction Date and Time                8000 non-null   object \n",
      " 1   Transaction Amount                       8000 non-null   float64\n",
      " 2   Cardholder Name                          8000 non-null   object \n",
      " 3   Card Number (Hashed or Encrypted)        8000 non-null   object \n",
      " 4   Merchant Name                            8000 non-null   object \n",
      " 5   Merchant Category Code (MCC)             8000 non-null   int64  \n",
      " 6   Transaction Location (City or ZIP Code)  8000 non-null   object \n",
      " 7   Transaction Currency                     8000 non-null   object \n",
      " 8   Card Type                                8000 non-null   object \n",
      " 9   Card Expiration Date                     8000 non-null   object \n",
      " 10  CVV Code (Hashed or Encrypted)           8000 non-null   object \n",
      " 11  Transaction Response Code                8000 non-null   int64  \n",
      " 12  Transaction ID                           8000 non-null   object \n",
      " 13  Fraud Flag or Label                      8000 non-null   int64  \n",
      " 14  Previous Transactions                    8000 non-null   object \n",
      " 15  Transaction Source                       8000 non-null   object \n",
      " 16  IP Address                               8000 non-null   object \n",
      " 17  Device Information                       8000 non-null   object \n",
      " 18  User Account Information                 3990 non-null   object \n",
      " 19  Transaction Notes                        8000 non-null   object \n",
      "dtypes: float64(1), int64(3), object(16)\n",
      "memory usage: 1.2+ MB\n"
     ]
    }
   ],
   "source": [
    "df.info()"
   ]
  },
  {
   "cell_type": "code",
   "execution_count": 6,
   "id": "7134db13",
   "metadata": {},
   "outputs": [],
   "source": [
    "df['Transaction Date and Time']=pd.to_datetime(df['Transaction Date and Time'])"
   ]
  },
  {
   "cell_type": "code",
   "execution_count": 7,
   "id": "8f5aed8f",
   "metadata": {},
   "outputs": [
    {
     "name": "stdout",
     "output_type": "stream",
     "text": [
      "<class 'pandas.core.frame.DataFrame'>\n",
      "RangeIndex: 8000 entries, 0 to 7999\n",
      "Data columns (total 20 columns):\n",
      " #   Column                                   Non-Null Count  Dtype         \n",
      "---  ------                                   --------------  -----         \n",
      " 0   Transaction Date and Time                8000 non-null   datetime64[ns]\n",
      " 1   Transaction Amount                       8000 non-null   float64       \n",
      " 2   Cardholder Name                          8000 non-null   object        \n",
      " 3   Card Number (Hashed or Encrypted)        8000 non-null   object        \n",
      " 4   Merchant Name                            8000 non-null   object        \n",
      " 5   Merchant Category Code (MCC)             8000 non-null   int64         \n",
      " 6   Transaction Location (City or ZIP Code)  8000 non-null   object        \n",
      " 7   Transaction Currency                     8000 non-null   object        \n",
      " 8   Card Type                                8000 non-null   object        \n",
      " 9   Card Expiration Date                     8000 non-null   object        \n",
      " 10  CVV Code (Hashed or Encrypted)           8000 non-null   object        \n",
      " 11  Transaction Response Code                8000 non-null   int64         \n",
      " 12  Transaction ID                           8000 non-null   object        \n",
      " 13  Fraud Flag or Label                      8000 non-null   int64         \n",
      " 14  Previous Transactions                    8000 non-null   object        \n",
      " 15  Transaction Source                       8000 non-null   object        \n",
      " 16  IP Address                               8000 non-null   object        \n",
      " 17  Device Information                       8000 non-null   object        \n",
      " 18  User Account Information                 3990 non-null   object        \n",
      " 19  Transaction Notes                        8000 non-null   object        \n",
      "dtypes: datetime64[ns](1), float64(1), int64(3), object(15)\n",
      "memory usage: 1.2+ MB\n"
     ]
    }
   ],
   "source": [
    "df.info()"
   ]
  },
  {
   "cell_type": "code",
   "execution_count": 8,
   "id": "9c2329dd",
   "metadata": {},
   "outputs": [
    {
     "data": {
      "text/plain": [
       "Transaction Date and Time                     0\n",
       "Transaction Amount                            0\n",
       "Cardholder Name                               0\n",
       "Card Number (Hashed or Encrypted)             0\n",
       "Merchant Name                                 0\n",
       "Merchant Category Code (MCC)                  0\n",
       "Transaction Location (City or ZIP Code)       0\n",
       "Transaction Currency                          0\n",
       "Card Type                                     0\n",
       "Card Expiration Date                          0\n",
       "CVV Code (Hashed or Encrypted)                0\n",
       "Transaction Response Code                     0\n",
       "Transaction ID                                0\n",
       "Fraud Flag or Label                           0\n",
       "Previous Transactions                         0\n",
       "Transaction Source                            0\n",
       "IP Address                                    0\n",
       "Device Information                            0\n",
       "User Account Information                   4010\n",
       "Transaction Notes                             0\n",
       "dtype: int64"
      ]
     },
     "execution_count": 8,
     "metadata": {},
     "output_type": "execute_result"
    }
   ],
   "source": [
    "df.isnull().sum()"
   ]
  },
  {
   "cell_type": "code",
   "execution_count": 9,
   "id": "207036a9",
   "metadata": {},
   "outputs": [],
   "source": [
    "df.drop(['User Account Information'],axis=1,inplace=True)"
   ]
  },
  {
   "cell_type": "code",
   "execution_count": 10,
   "id": "f6dfeb6e",
   "metadata": {},
   "outputs": [
    {
     "data": {
      "text/plain": [
       "Transaction Date and Time                  0\n",
       "Transaction Amount                         0\n",
       "Cardholder Name                            0\n",
       "Card Number (Hashed or Encrypted)          0\n",
       "Merchant Name                              0\n",
       "Merchant Category Code (MCC)               0\n",
       "Transaction Location (City or ZIP Code)    0\n",
       "Transaction Currency                       0\n",
       "Card Type                                  0\n",
       "Card Expiration Date                       0\n",
       "CVV Code (Hashed or Encrypted)             0\n",
       "Transaction Response Code                  0\n",
       "Transaction ID                             0\n",
       "Fraud Flag or Label                        0\n",
       "Previous Transactions                      0\n",
       "Transaction Source                         0\n",
       "IP Address                                 0\n",
       "Device Information                         0\n",
       "Transaction Notes                          0\n",
       "dtype: int64"
      ]
     },
     "execution_count": 10,
     "metadata": {},
     "output_type": "execute_result"
    }
   ],
   "source": [
    "df.isnull().sum()"
   ]
  },
  {
   "cell_type": "code",
   "execution_count": null,
   "id": "dcadc903",
   "metadata": {},
   "outputs": [],
   "source": [
    "#feature engineering"
   ]
  },
  {
   "cell_type": "code",
   "execution_count": 13,
   "id": "e582faf9",
   "metadata": {},
   "outputs": [],
   "source": [
    "df['year']=df['Transaction Date and Time'].dt.year\n",
    "df['month']=df['Transaction Date and Time'].dt.month\n",
    "df['day']=df['Transaction Date and Time'].dt.day\n",
    "df['weekday']=df['Transaction Date and Time'].dt.weekday\n",
    "df['hour']=df['Transaction Date and Time'].dt.hour"
   ]
  },
  {
   "cell_type": "code",
   "execution_count": 14,
   "id": "6141f533",
   "metadata": {},
   "outputs": [],
   "source": [
    "df.drop(['Transaction Date and Time'],axis=1,inplace=True)"
   ]
  },
  {
   "cell_type": "code",
   "execution_count": 15,
   "id": "dc5414c2",
   "metadata": {},
   "outputs": [
    {
     "data": {
      "text/html": [
       "<div>\n",
       "<style scoped>\n",
       "    .dataframe tbody tr th:only-of-type {\n",
       "        vertical-align: middle;\n",
       "    }\n",
       "\n",
       "    .dataframe tbody tr th {\n",
       "        vertical-align: top;\n",
       "    }\n",
       "\n",
       "    .dataframe thead th {\n",
       "        text-align: right;\n",
       "    }\n",
       "</style>\n",
       "<table border=\"1\" class=\"dataframe\">\n",
       "  <thead>\n",
       "    <tr style=\"text-align: right;\">\n",
       "      <th></th>\n",
       "      <th>Transaction Amount</th>\n",
       "      <th>Cardholder Name</th>\n",
       "      <th>Card Number (Hashed or Encrypted)</th>\n",
       "      <th>Merchant Name</th>\n",
       "      <th>Merchant Category Code (MCC)</th>\n",
       "      <th>Transaction Location (City or ZIP Code)</th>\n",
       "      <th>Transaction Currency</th>\n",
       "      <th>Card Type</th>\n",
       "      <th>Card Expiration Date</th>\n",
       "      <th>CVV Code (Hashed or Encrypted)</th>\n",
       "      <th>...</th>\n",
       "      <th>Previous Transactions</th>\n",
       "      <th>Transaction Source</th>\n",
       "      <th>IP Address</th>\n",
       "      <th>Device Information</th>\n",
       "      <th>Transaction Notes</th>\n",
       "      <th>year</th>\n",
       "      <th>month</th>\n",
       "      <th>day</th>\n",
       "      <th>weekday</th>\n",
       "      <th>hour</th>\n",
       "    </tr>\n",
       "  </thead>\n",
       "  <tbody>\n",
       "    <tr>\n",
       "      <th>0</th>\n",
       "      <td>285.88</td>\n",
       "      <td>Shray Soman</td>\n",
       "      <td>daca51bffe0fc4eaaa7c430917f94b75fd893712492254...</td>\n",
       "      <td>Rajagopalan, Ghose and Kant</td>\n",
       "      <td>3590</td>\n",
       "      <td>Khammam</td>\n",
       "      <td>INR</td>\n",
       "      <td>MasterCard</td>\n",
       "      <td>29-Apr</td>\n",
       "      <td>01299ac65733b5a3d774265fbfe8396b8611e5e3321855...</td>\n",
       "      <td>...</td>\n",
       "      <td>None</td>\n",
       "      <td>Online</td>\n",
       "      <td>18.106.240.6</td>\n",
       "      <td>Tablet</td>\n",
       "      <td>Consequatur corporis minima ad vero deserunt n...</td>\n",
       "      <td>2022</td>\n",
       "      <td>9</td>\n",
       "      <td>24</td>\n",
       "      <td>5</td>\n",
       "      <td>13</td>\n",
       "    </tr>\n",
       "    <tr>\n",
       "      <th>1</th>\n",
       "      <td>1777.32</td>\n",
       "      <td>Lakshit Bakshi</td>\n",
       "      <td>d5366dd9be3a0266c0252baceaa6332210ed4dbd0ef252...</td>\n",
       "      <td>Sule PLC</td>\n",
       "      <td>7277</td>\n",
       "      <td>Vasai-Virar</td>\n",
       "      <td>EUR</td>\n",
       "      <td>American Express</td>\n",
       "      <td>26-Mar</td>\n",
       "      <td>ad8fa913d25b3970c6efa8ca504da8ba670ce2a9cf012d...</td>\n",
       "      <td>...</td>\n",
       "      <td>None</td>\n",
       "      <td>Online</td>\n",
       "      <td>212.48.185.128</td>\n",
       "      <td>Mobile</td>\n",
       "      <td>Dolore repellendus odio deleniti. Eaque quibus...</td>\n",
       "      <td>2020</td>\n",
       "      <td>7</td>\n",
       "      <td>24</td>\n",
       "      <td>4</td>\n",
       "      <td>11</td>\n",
       "    </tr>\n",
       "    <tr>\n",
       "      <th>2</th>\n",
       "      <td>3939.01</td>\n",
       "      <td>Riya Bobal</td>\n",
       "      <td>4737a6384aa1c3c31f7768b86633d6a8401dd6ab4a8ff1...</td>\n",
       "      <td>Badal PLC</td>\n",
       "      <td>9297</td>\n",
       "      <td>Nangloi Jat</td>\n",
       "      <td>USD</td>\n",
       "      <td>Visa</td>\n",
       "      <td>29-Nov</td>\n",
       "      <td>eb3be230bbd2844b1f5d8f2e4fab9ffba8ab22cfeeb69c...</td>\n",
       "      <td>...</td>\n",
       "      <td>3 or more</td>\n",
       "      <td>In-Person</td>\n",
       "      <td>17.190.112.46</td>\n",
       "      <td>Mobile</td>\n",
       "      <td>Unde beatae perspiciatis sapiente. Voluptates ...</td>\n",
       "      <td>2023</td>\n",
       "      <td>3</td>\n",
       "      <td>18</td>\n",
       "      <td>5</td>\n",
       "      <td>1</td>\n",
       "    </tr>\n",
       "    <tr>\n",
       "      <th>3</th>\n",
       "      <td>376.44</td>\n",
       "      <td>Mohanlal Balakrishnan</td>\n",
       "      <td>4721806eed8f2663bb597ff13e79a294de318358fbb54b...</td>\n",
       "      <td>Konda-Sodhi</td>\n",
       "      <td>5686</td>\n",
       "      <td>Ramagundam</td>\n",
       "      <td>USD</td>\n",
       "      <td>Visa</td>\n",
       "      <td>25-Sep</td>\n",
       "      <td>891d46993a36d78392247c642138cede01d9841daab1d9...</td>\n",
       "      <td>...</td>\n",
       "      <td>2</td>\n",
       "      <td>In-Person</td>\n",
       "      <td>153.136.24.104</td>\n",
       "      <td>Tablet</td>\n",
       "      <td>Cupiditate repellendus necessitatibus quo occa...</td>\n",
       "      <td>2021</td>\n",
       "      <td>1</td>\n",
       "      <td>7</td>\n",
       "      <td>3</td>\n",
       "      <td>21</td>\n",
       "    </tr>\n",
       "    <tr>\n",
       "      <th>4</th>\n",
       "      <td>1687.33</td>\n",
       "      <td>Mannat Rout</td>\n",
       "      <td>9deacc3a9efd6e382826d400620aca5f23ed94327578e5...</td>\n",
       "      <td>Dua Ltd</td>\n",
       "      <td>2940</td>\n",
       "      <td>Adoni</td>\n",
       "      <td>INR</td>\n",
       "      <td>MasterCard</td>\n",
       "      <td>31-Mar</td>\n",
       "      <td>48a1a756f2d83f1dc57bbf14052b70a6f40d0fceed6662...</td>\n",
       "      <td>...</td>\n",
       "      <td>2</td>\n",
       "      <td>Online</td>\n",
       "      <td>196.153.28.131</td>\n",
       "      <td>Desktop</td>\n",
       "      <td>Molestias assumenda consectetur itaque veritat...</td>\n",
       "      <td>2021</td>\n",
       "      <td>12</td>\n",
       "      <td>16</td>\n",
       "      <td>3</td>\n",
       "      <td>6</td>\n",
       "    </tr>\n",
       "    <tr>\n",
       "      <th>...</th>\n",
       "      <td>...</td>\n",
       "      <td>...</td>\n",
       "      <td>...</td>\n",
       "      <td>...</td>\n",
       "      <td>...</td>\n",
       "      <td>...</td>\n",
       "      <td>...</td>\n",
       "      <td>...</td>\n",
       "      <td>...</td>\n",
       "      <td>...</td>\n",
       "      <td>...</td>\n",
       "      <td>...</td>\n",
       "      <td>...</td>\n",
       "      <td>...</td>\n",
       "      <td>...</td>\n",
       "      <td>...</td>\n",
       "      <td>...</td>\n",
       "      <td>...</td>\n",
       "      <td>...</td>\n",
       "      <td>...</td>\n",
       "      <td>...</td>\n",
       "    </tr>\n",
       "    <tr>\n",
       "      <th>7995</th>\n",
       "      <td>2214.15</td>\n",
       "      <td>Lakshay Khatri</td>\n",
       "      <td>8a0015c8601fe597e160c31a05fd5e4a87a4b876df426f...</td>\n",
       "      <td>Manda Ltd</td>\n",
       "      <td>1236</td>\n",
       "      <td>Anantapuram</td>\n",
       "      <td>EUR</td>\n",
       "      <td>Visa</td>\n",
       "      <td>26-Apr</td>\n",
       "      <td>d4b9aead1dd10a596542d1d8211a5021b9c3e894751d01...</td>\n",
       "      <td>...</td>\n",
       "      <td>1</td>\n",
       "      <td>Online</td>\n",
       "      <td>214.34.176.247</td>\n",
       "      <td>Mobile</td>\n",
       "      <td>Et maiores quaerat fugiat voluptatibus reprehe...</td>\n",
       "      <td>2020</td>\n",
       "      <td>12</td>\n",
       "      <td>17</td>\n",
       "      <td>3</td>\n",
       "      <td>20</td>\n",
       "    </tr>\n",
       "    <tr>\n",
       "      <th>7996</th>\n",
       "      <td>675.97</td>\n",
       "      <td>Dharmajan Salvi</td>\n",
       "      <td>de3530e65ccf6fc0c0eb7f7a7e8e5b71bb907d5207d390...</td>\n",
       "      <td>Bhavsar Group</td>\n",
       "      <td>3406</td>\n",
       "      <td>Guntakal</td>\n",
       "      <td>INR</td>\n",
       "      <td>Visa</td>\n",
       "      <td>25-Nov</td>\n",
       "      <td>d874e4e4a5df21173b0f83e313151f813bea4f488686ef...</td>\n",
       "      <td>...</td>\n",
       "      <td>3 or more</td>\n",
       "      <td>In-Person</td>\n",
       "      <td>34.237.199.33</td>\n",
       "      <td>Tablet</td>\n",
       "      <td>Assumenda maxime provident rem quis consequunt...</td>\n",
       "      <td>2022</td>\n",
       "      <td>7</td>\n",
       "      <td>4</td>\n",
       "      <td>0</td>\n",
       "      <td>5</td>\n",
       "    </tr>\n",
       "    <tr>\n",
       "      <th>7997</th>\n",
       "      <td>918.28</td>\n",
       "      <td>Alia Sane</td>\n",
       "      <td>227356d19fd5374e9cfdd134387fe3499683a1c7929981...</td>\n",
       "      <td>Gole, Yohannan and Singhal</td>\n",
       "      <td>7504</td>\n",
       "      <td>Udupi</td>\n",
       "      <td>USD</td>\n",
       "      <td>MasterCard</td>\n",
       "      <td>24-May</td>\n",
       "      <td>20e9c64c05a54d199610fb7e38135361324b5ed5dcf39c...</td>\n",
       "      <td>...</td>\n",
       "      <td>3 or more</td>\n",
       "      <td>In-Person</td>\n",
       "      <td>220.203.140.160</td>\n",
       "      <td>Tablet</td>\n",
       "      <td>Voluptatibus odit praesentium iste libero ipsa...</td>\n",
       "      <td>2022</td>\n",
       "      <td>8</td>\n",
       "      <td>14</td>\n",
       "      <td>6</td>\n",
       "      <td>19</td>\n",
       "    </tr>\n",
       "    <tr>\n",
       "      <th>7998</th>\n",
       "      <td>3035.31</td>\n",
       "      <td>Chirag Rege</td>\n",
       "      <td>669bd9fcc7e40cc25d99c773678e48bcb3fdadf7fee6a9...</td>\n",
       "      <td>Kakar LLC</td>\n",
       "      <td>4015</td>\n",
       "      <td>Sultan Pur Majra</td>\n",
       "      <td>EUR</td>\n",
       "      <td>American Express</td>\n",
       "      <td>24-Sep</td>\n",
       "      <td>e7866fdc6672f827c76f6124ca3eeaff44aff8b7caf4ee...</td>\n",
       "      <td>...</td>\n",
       "      <td>1</td>\n",
       "      <td>In-Person</td>\n",
       "      <td>216.56.133.227</td>\n",
       "      <td>Tablet</td>\n",
       "      <td>Animi excepturi nam distinctio fuga. Vel eius ...</td>\n",
       "      <td>2021</td>\n",
       "      <td>5</td>\n",
       "      <td>16</td>\n",
       "      <td>6</td>\n",
       "      <td>18</td>\n",
       "    </tr>\n",
       "    <tr>\n",
       "      <th>7999</th>\n",
       "      <td>3354.36</td>\n",
       "      <td>Alia Bose</td>\n",
       "      <td>8db138a97db4df2c7533dfca014dcd85c0385846a55e6c...</td>\n",
       "      <td>Datta, Gandhi and Sha</td>\n",
       "      <td>2902</td>\n",
       "      <td>Dehradun</td>\n",
       "      <td>INR</td>\n",
       "      <td>Visa</td>\n",
       "      <td>24-Feb</td>\n",
       "      <td>c86a2932e1c79343a3c16fb218b9944791aaeedd3e30c8...</td>\n",
       "      <td>...</td>\n",
       "      <td>2</td>\n",
       "      <td>In-Person</td>\n",
       "      <td>159.232.79.67</td>\n",
       "      <td>Mobile</td>\n",
       "      <td>Ipsa minus aperiam beatae. Iure dicta mollitia...</td>\n",
       "      <td>2023</td>\n",
       "      <td>6</td>\n",
       "      <td>14</td>\n",
       "      <td>2</td>\n",
       "      <td>6</td>\n",
       "    </tr>\n",
       "  </tbody>\n",
       "</table>\n",
       "<p>8000 rows × 23 columns</p>\n",
       "</div>"
      ],
      "text/plain": [
       "      Transaction Amount        Cardholder Name  \\\n",
       "0                 285.88            Shray Soman   \n",
       "1                1777.32         Lakshit Bakshi   \n",
       "2                3939.01             Riya Bobal   \n",
       "3                 376.44  Mohanlal Balakrishnan   \n",
       "4                1687.33            Mannat Rout   \n",
       "...                  ...                    ...   \n",
       "7995             2214.15         Lakshay Khatri   \n",
       "7996              675.97        Dharmajan Salvi   \n",
       "7997              918.28              Alia Sane   \n",
       "7998             3035.31            Chirag Rege   \n",
       "7999             3354.36              Alia Bose   \n",
       "\n",
       "                      Card Number (Hashed or Encrypted)  \\\n",
       "0     daca51bffe0fc4eaaa7c430917f94b75fd893712492254...   \n",
       "1     d5366dd9be3a0266c0252baceaa6332210ed4dbd0ef252...   \n",
       "2     4737a6384aa1c3c31f7768b86633d6a8401dd6ab4a8ff1...   \n",
       "3     4721806eed8f2663bb597ff13e79a294de318358fbb54b...   \n",
       "4     9deacc3a9efd6e382826d400620aca5f23ed94327578e5...   \n",
       "...                                                 ...   \n",
       "7995  8a0015c8601fe597e160c31a05fd5e4a87a4b876df426f...   \n",
       "7996  de3530e65ccf6fc0c0eb7f7a7e8e5b71bb907d5207d390...   \n",
       "7997  227356d19fd5374e9cfdd134387fe3499683a1c7929981...   \n",
       "7998  669bd9fcc7e40cc25d99c773678e48bcb3fdadf7fee6a9...   \n",
       "7999  8db138a97db4df2c7533dfca014dcd85c0385846a55e6c...   \n",
       "\n",
       "                    Merchant Name  Merchant Category Code (MCC)  \\\n",
       "0     Rajagopalan, Ghose and Kant                          3590   \n",
       "1                        Sule PLC                          7277   \n",
       "2                       Badal PLC                          9297   \n",
       "3                     Konda-Sodhi                          5686   \n",
       "4                         Dua Ltd                          2940   \n",
       "...                           ...                           ...   \n",
       "7995                    Manda Ltd                          1236   \n",
       "7996                Bhavsar Group                          3406   \n",
       "7997   Gole, Yohannan and Singhal                          7504   \n",
       "7998                    Kakar LLC                          4015   \n",
       "7999        Datta, Gandhi and Sha                          2902   \n",
       "\n",
       "     Transaction Location (City or ZIP Code) Transaction Currency  \\\n",
       "0                                    Khammam                  INR   \n",
       "1                                Vasai-Virar                  EUR   \n",
       "2                                Nangloi Jat                  USD   \n",
       "3                                 Ramagundam                  USD   \n",
       "4                                      Adoni                  INR   \n",
       "...                                      ...                  ...   \n",
       "7995                             Anantapuram                  EUR   \n",
       "7996                                Guntakal                  INR   \n",
       "7997                                   Udupi                  USD   \n",
       "7998                        Sultan Pur Majra                  EUR   \n",
       "7999                                Dehradun                  INR   \n",
       "\n",
       "             Card Type Card Expiration Date  \\\n",
       "0           MasterCard               29-Apr   \n",
       "1     American Express               26-Mar   \n",
       "2                 Visa               29-Nov   \n",
       "3                 Visa               25-Sep   \n",
       "4           MasterCard               31-Mar   \n",
       "...                ...                  ...   \n",
       "7995              Visa               26-Apr   \n",
       "7996              Visa               25-Nov   \n",
       "7997        MasterCard               24-May   \n",
       "7998  American Express               24-Sep   \n",
       "7999              Visa               24-Feb   \n",
       "\n",
       "                         CVV Code (Hashed or Encrypted)  ...  \\\n",
       "0     01299ac65733b5a3d774265fbfe8396b8611e5e3321855...  ...   \n",
       "1     ad8fa913d25b3970c6efa8ca504da8ba670ce2a9cf012d...  ...   \n",
       "2     eb3be230bbd2844b1f5d8f2e4fab9ffba8ab22cfeeb69c...  ...   \n",
       "3     891d46993a36d78392247c642138cede01d9841daab1d9...  ...   \n",
       "4     48a1a756f2d83f1dc57bbf14052b70a6f40d0fceed6662...  ...   \n",
       "...                                                 ...  ...   \n",
       "7995  d4b9aead1dd10a596542d1d8211a5021b9c3e894751d01...  ...   \n",
       "7996  d874e4e4a5df21173b0f83e313151f813bea4f488686ef...  ...   \n",
       "7997  20e9c64c05a54d199610fb7e38135361324b5ed5dcf39c...  ...   \n",
       "7998  e7866fdc6672f827c76f6124ca3eeaff44aff8b7caf4ee...  ...   \n",
       "7999  c86a2932e1c79343a3c16fb218b9944791aaeedd3e30c8...  ...   \n",
       "\n",
       "      Previous Transactions Transaction Source       IP Address  \\\n",
       "0                      None             Online     18.106.240.6   \n",
       "1                      None             Online   212.48.185.128   \n",
       "2                 3 or more          In-Person    17.190.112.46   \n",
       "3                         2          In-Person   153.136.24.104   \n",
       "4                         2             Online   196.153.28.131   \n",
       "...                     ...                ...              ...   \n",
       "7995                      1             Online   214.34.176.247   \n",
       "7996              3 or more          In-Person    34.237.199.33   \n",
       "7997              3 or more          In-Person  220.203.140.160   \n",
       "7998                      1          In-Person   216.56.133.227   \n",
       "7999                      2          In-Person    159.232.79.67   \n",
       "\n",
       "     Device Information                                  Transaction Notes  \\\n",
       "0                Tablet  Consequatur corporis minima ad vero deserunt n...   \n",
       "1                Mobile  Dolore repellendus odio deleniti. Eaque quibus...   \n",
       "2                Mobile  Unde beatae perspiciatis sapiente. Voluptates ...   \n",
       "3                Tablet  Cupiditate repellendus necessitatibus quo occa...   \n",
       "4               Desktop  Molestias assumenda consectetur itaque veritat...   \n",
       "...                 ...                                                ...   \n",
       "7995             Mobile  Et maiores quaerat fugiat voluptatibus reprehe...   \n",
       "7996             Tablet  Assumenda maxime provident rem quis consequunt...   \n",
       "7997             Tablet  Voluptatibus odit praesentium iste libero ipsa...   \n",
       "7998             Tablet  Animi excepturi nam distinctio fuga. Vel eius ...   \n",
       "7999             Mobile  Ipsa minus aperiam beatae. Iure dicta mollitia...   \n",
       "\n",
       "      year month day  weekday  hour  \n",
       "0     2022     9  24        5    13  \n",
       "1     2020     7  24        4    11  \n",
       "2     2023     3  18        5     1  \n",
       "3     2021     1   7        3    21  \n",
       "4     2021    12  16        3     6  \n",
       "...    ...   ...  ..      ...   ...  \n",
       "7995  2020    12  17        3    20  \n",
       "7996  2022     7   4        0     5  \n",
       "7997  2022     8  14        6    19  \n",
       "7998  2021     5  16        6    18  \n",
       "7999  2023     6  14        2     6  \n",
       "\n",
       "[8000 rows x 23 columns]"
      ]
     },
     "execution_count": 15,
     "metadata": {},
     "output_type": "execute_result"
    }
   ],
   "source": [
    "df"
   ]
  },
  {
   "cell_type": "code",
   "execution_count": null,
   "id": "53b7eacd",
   "metadata": {},
   "outputs": [],
   "source": [
    "#EDA\n",
    "#Univariate"
   ]
  },
  {
   "cell_type": "code",
   "execution_count": 17,
   "id": "744dd1e8",
   "metadata": {},
   "outputs": [
    {
     "name": "stderr",
     "output_type": "stream",
     "text": [
      "C:\\Users\\shiva\\AppData\\Local\\Temp\\ipykernel_45116\\1437496168.py:1: UserWarning: \n",
      "\n",
      "`distplot` is a deprecated function and will be removed in seaborn v0.14.0.\n",
      "\n",
      "Please adapt your code to use either `displot` (a figure-level function with\n",
      "similar flexibility) or `histplot` (an axes-level function for histograms).\n",
      "\n",
      "For a guide to updating your code to use the new functions, please see\n",
      "https://gist.github.com/mwaskom/de44147ed2974457ad6372750bbe5751\n",
      "\n",
      "  sns.distplot(df['Transaction Amount'])\n"
     ]
    },
    {
     "data": {
      "image/png": "[encoded data removed]",
      "text/plain": [
       "<Figure size 640x480 with 1 Axes>"
      ]
     },
     "metadata": {},
     "output_type": "display_data"
    }
   ],
   "source": [
    "sns.distplot(df['Transaction Amount'])\n",
    "plt.show()"
   ]
  },
  {
   "cell_type": "code",
   "execution_count": 18,
   "id": "b43e18f7",
   "metadata": {},
   "outputs": [
    {
     "data": {
      "image/png": "[encoded data removed]",
      "text/plain": [
       "<Figure size 640x480 with 1 Axes>"
      ]
     },
     "metadata": {},
     "output_type": "display_data"
    }
   ],
   "source": [
    "plt.hist(df['Transaction Amount'],edgecolor='black',bins=100)\n",
    "plt.show()"
   ]
  },
  {
   "cell_type": "code",
   "execution_count": 19,
   "id": "7cd2177e",
   "metadata": {},
   "outputs": [],
   "source": [
    "df.drop(['Cardholder Name'],axis=1,inplace=True)"
   ]
  },
  {
   "cell_type": "code",
   "execution_count": 20,
   "id": "dd2841b6",
   "metadata": {},
   "outputs": [],
   "source": [
    "df.drop(['Card Number (Hashed or Encrypted)','Merchant Name','CVV Code (Hashed or Encrypted)','Transaction Notes'],axis=1,inplace=True)"
   ]
  },
  {
   "cell_type": "code",
   "execution_count": 21,
   "id": "8d3f454a",
   "metadata": {},
   "outputs": [],
   "source": [
    "df.drop(['Transaction ID','Card Expiration Date'],axis=1,inplace=True)"
   ]
  },
  {
   "cell_type": "code",
   "execution_count": 23,
   "id": "81bdb4c7",
   "metadata": {},
   "outputs": [],
   "source": [
    "df.drop(['IP Address'],axis=1,inplace=True)"
   ]
  },
  {
   "cell_type": "code",
   "execution_count": 24,
   "id": "99d7afd0",
   "metadata": {},
   "outputs": [],
   "source": [
    "df.drop(['Merchant Category Code (MCC)'],axis=1,inplace=True)"
   ]
  },
  {
   "cell_type": "code",
   "execution_count": 25,
   "id": "28b2fb26",
   "metadata": {},
   "outputs": [
    {
     "data": {
      "text/plain": [
       "316"
      ]
     },
     "execution_count": 25,
     "metadata": {},
     "output_type": "execute_result"
    }
   ],
   "source": [
    "#explore EDA\n",
    "df_location=df['Transaction Location (City or ZIP Code)'].value_counts()\n",
    "len(df_location.index)"
   ]
  },
  {
   "cell_type": "code",
   "execution_count": 27,
   "id": "a6a20580",
   "metadata": {},
   "outputs": [
    {
     "data": {
      "text/plain": [
       "Ghaziabad                       53\n",
       "Aurangabad                      51\n",
       "Darbhanga                       39\n",
       "Bettiah                         38\n",
       "Malda                           37\n",
       "South Dumdum                    37\n",
       "Warangal                        36\n",
       "Nangloi Jat                     36\n",
       "Belgaum                         36\n",
       "Bareilly                        36\n",
       "Mysore                          35\n",
       "Muzaffarpur                     35\n",
       "Jammu                           35\n",
       "Rohtak                          35\n",
       "Vijayawada                      35\n",
       "Hapur                           34\n",
       "Thoothukudi                     34\n",
       "Vijayanagaram                   34\n",
       "Bangalore                       34\n",
       "Panipat                         33\n",
       "Srikakulam                      33\n",
       "Sasaram                         33\n",
       "Junagadh                        33\n",
       "Anantapur                       33\n",
       "Meerut                          32\n",
       "Begusarai                       32\n",
       "Satara                          32\n",
       "Bongaigaon                      32\n",
       "Saharanpur                      32\n",
       "Ulhasnagar                      32\n",
       "Guna                            32\n",
       "Durg                            32\n",
       "Jamshedpur                      32\n",
       "Katni                           32\n",
       "Gorakhpur                       31\n",
       "Moradabad                       31\n",
       "Asansol                         31\n",
       "Anantapuram                     31\n",
       "Kollam                          31\n",
       "Varanasi                        31\n",
       "Rajkot                          31\n",
       "Bhind                           31\n",
       "Raurkela Industrial Township    31\n",
       "Delhi                           31\n",
       "Nadiad                          31\n",
       "Jhansi                          31\n",
       "Cuttack                         31\n",
       "Bathinda                        31\n",
       "Name: Transaction Location (City or ZIP Code), dtype: int64"
      ]
     },
     "execution_count": 27,
     "metadata": {},
     "output_type": "execute_result"
    }
   ],
   "source": [
    "df_location_new=df_location[df_location>30]\n",
    "df_location_new"
   ]
  },
  {
   "cell_type": "code",
   "execution_count": 28,
   "id": "0f1dee8c",
   "metadata": {},
   "outputs": [
    {
     "data": {
      "image/png": "[encoded data removed]",
      "text/plain": [
       "<Figure size 640x480 with 1 Axes>"
      ]
     },
     "metadata": {},
     "output_type": "display_data"
    }
   ],
   "source": [
    "plt.bar(df_location_new.index,df_location_new.values)\n",
    "plt.xticks(rotation=90)\n",
    "plt.show()"
   ]
  },
  {
   "cell_type": "code",
   "execution_count": 29,
   "id": "742d27f0",
   "metadata": {},
   "outputs": [
    {
     "data": {
      "text/plain": [
       "INR    2713\n",
       "USD    2645\n",
       "EUR    2642\n",
       "Name: Transaction Currency, dtype: int64"
      ]
     },
     "execution_count": 29,
     "metadata": {},
     "output_type": "execute_result"
    }
   ],
   "source": [
    "df['Transaction Currency'].value_counts()"
   ]
  },
  {
   "cell_type": "code",
   "execution_count": 30,
   "id": "15a542cd",
   "metadata": {},
   "outputs": [
    {
     "data": {
      "image/png": "[encoded data removed]",
      "text/plain": [
       "<Figure size 640x480 with 1 Axes>"
      ]
     },
     "metadata": {},
     "output_type": "display_data"
    }
   ],
   "source": [
    "sns.countplot(x=df['Transaction Currency'])\n",
    "plt.show()"
   ]
  },
  {
   "cell_type": "code",
   "execution_count": 31,
   "id": "0d868510",
   "metadata": {},
   "outputs": [
    {
     "data": {
      "image/png": "[encoded data removed]",
      "text/plain": [
       "<Figure size 640x480 with 1 Axes>"
      ]
     },
     "metadata": {},
     "output_type": "display_data"
    }
   ],
   "source": [
    "sns.countplot(x=df['Card Type'])\n",
    "plt.show()"
   ]
  },
  {
   "cell_type": "code",
   "execution_count": 32,
   "id": "733ff608",
   "metadata": {},
   "outputs": [
    {
     "data": {
      "image/png": "[encoded data removed]",
      "text/plain": [
       "<Figure size 640x480 with 1 Axes>"
      ]
     },
     "metadata": {},
     "output_type": "display_data"
    }
   ],
   "source": [
    "sns.countplot(x=df['Transaction Response Code'])\n",
    "plt.show()"
   ]
  },
  {
   "cell_type": "code",
   "execution_count": 33,
   "id": "8a7308df",
   "metadata": {},
   "outputs": [
    {
     "data": {
      "text/plain": [
       "0    4011\n",
       "1    3989\n",
       "Name: Fraud Flag or Label, dtype: int64"
      ]
     },
     "execution_count": 33,
     "metadata": {},
     "output_type": "execute_result"
    }
   ],
   "source": [
    "df['Fraud Flag or Label'].value_counts()"
   ]
  },
  {
   "cell_type": "code",
   "execution_count": 35,
   "id": "116f3a5f",
   "metadata": {},
   "outputs": [
    {
     "data": {
      "text/plain": [
       "None         2043\n",
       "1            2031\n",
       "3 or more    1968\n",
       "2            1958\n",
       "Name: Previous Transactions, dtype: int64"
      ]
     },
     "execution_count": 35,
     "metadata": {},
     "output_type": "execute_result"
    }
   ],
   "source": [
    "df['Previous Transactions'].value_counts()"
   ]
  },
  {
   "cell_type": "code",
   "execution_count": 36,
   "id": "eee23a88",
   "metadata": {},
   "outputs": [],
   "source": [
    "df['Previous Transactions'].replace('None',0,inplace=True)\n",
    "df['Previous Transactions'].replace('3 or more',3,inplace=True)"
   ]
  },
  {
   "cell_type": "code",
   "execution_count": 37,
   "id": "147d2017",
   "metadata": {},
   "outputs": [
    {
     "data": {
      "text/plain": [
       "<Axes: xlabel='Previous Transactions', ylabel='count'>"
      ]
     },
     "execution_count": 37,
     "metadata": {},
     "output_type": "execute_result"
    },
    {
     "data": {
      "image/png": "[encoded data removed]",
      "text/plain": [
       "<Figure size 640x480 with 1 Axes>"
      ]
     },
     "metadata": {},
     "output_type": "display_data"
    }
   ],
   "source": [
    "sns.countplot(x=df['Previous Transactions'])"
   ]
  },
  {
   "cell_type": "code",
   "execution_count": 38,
   "id": "ccd2a3d5",
   "metadata": {},
   "outputs": [
    {
     "data": {
      "text/plain": [
       "<Axes: xlabel='Transaction Source', ylabel='count'>"
      ]
     },
     "execution_count": 38,
     "metadata": {},
     "output_type": "execute_result"
    },
    {
     "data": {
      "image/png": "[encoded data removed]",
      "text/plain": [
       "<Figure size 640x480 with 1 Axes>"
      ]
     },
     "metadata": {},
     "output_type": "display_data"
    }
   ],
   "source": [
    "sns.countplot(x=df['Transaction Source'])"
   ]
  },
  {
   "cell_type": "code",
   "execution_count": 39,
   "id": "6d069aae",
   "metadata": {},
   "outputs": [],
   "source": [
    "df['Transaction Source'].replace('Online',0,inplace=True)\n",
    "df['Transaction Source'].replace('In-Person',1,inplace=True)"
   ]
  },
  {
   "cell_type": "code",
   "execution_count": 40,
   "id": "4f14bb8c",
   "metadata": {},
   "outputs": [
    {
     "data": {
      "text/plain": [
       "<Axes: xlabel='Device Information', ylabel='count'>"
      ]
     },
     "execution_count": 40,
     "metadata": {},
     "output_type": "execute_result"
    },
    {
     "data": {
      "image/png": "[encoded data removed]",
      "text/plain": [
       "<Figure size 640x480 with 1 Axes>"
      ]
     },
     "metadata": {},
     "output_type": "display_data"
    }
   ],
   "source": [
    "sns.countplot(x=df['Device Information'])"
   ]
  },
  {
   "cell_type": "code",
   "execution_count": 41,
   "id": "8790bcc9",
   "metadata": {},
   "outputs": [
    {
     "data": {
      "text/plain": [
       "2021    2137\n",
       "2022    2134\n",
       "2020    2114\n",
       "2023    1615\n",
       "Name: year, dtype: int64"
      ]
     },
     "execution_count": 41,
     "metadata": {},
     "output_type": "execute_result"
    }
   ],
   "source": [
    "df['year'].value_counts()"
   ]
  },
  {
   "cell_type": "code",
   "execution_count": 42,
   "id": "5f70b485",
   "metadata": {},
   "outputs": [
    {
     "data": {
      "text/plain": [
       "<Axes: xlabel='year', ylabel='count'>"
      ]
     },
     "execution_count": 42,
     "metadata": {},
     "output_type": "execute_result"
    },
    {
     "data": {
      "image/png": "[encoded data removed]",
      "text/plain": [
       "<Figure size 640x480 with 1 Axes>"
      ]
     },
     "metadata": {},
     "output_type": "display_data"
    }
   ],
   "source": [
    "sns.countplot(x=df['year'])"
   ]
  },
  {
   "cell_type": "code",
   "execution_count": 43,
   "id": "53b10756",
   "metadata": {},
   "outputs": [
    {
     "data": {
      "text/plain": [
       "<Axes: xlabel='month', ylabel='count'>"
      ]
     },
     "execution_count": 43,
     "metadata": {},
     "output_type": "execute_result"
    },
    {
     "data": {
      "image/png": "[encoded data removed]",
      "text/plain": [
       "<Figure size 640x480 with 1 Axes>"
      ]
     },
     "metadata": {},
     "output_type": "display_data"
    }
   ],
   "source": [
    "sns.countplot(x=df['month'])"
   ]
  },
  {
   "cell_type": "code",
   "execution_count": 44,
   "id": "7645fba3",
   "metadata": {},
   "outputs": [
    {
     "data": {
      "text/plain": [
       "<Axes: xlabel='day', ylabel='count'>"
      ]
     },
     "execution_count": 44,
     "metadata": {},
     "output_type": "execute_result"
    },
    {
     "data": {
      "image/png": "[encoded data removed]",
      "text/plain": [
       "<Figure size 640x480 with 1 Axes>"
      ]
     },
     "metadata": {},
     "output_type": "display_data"
    }
   ],
   "source": [
    "sns.countplot(x=df['day'])"
   ]
  },
  {
   "cell_type": "code",
   "execution_count": 45,
   "id": "b78e7d53",
   "metadata": {},
   "outputs": [
    {
     "data": {
      "text/plain": [
       "<Axes: xlabel='hour', ylabel='count'>"
      ]
     },
     "execution_count": 45,
     "metadata": {},
     "output_type": "execute_result"
    },
    {
     "data": {
      "image/png": "[encoded data removed]",
      "text/plain": [
       "<Figure size 640x480 with 1 Axes>"
      ]
     },
     "metadata": {},
     "output_type": "display_data"
    }
   ],
   "source": [
    "sns.countplot(x=df['hour'])"
   ]
  },
  {
   "cell_type": "code",
   "execution_count": 46,
   "id": "703e2e3f",
   "metadata": {},
   "outputs": [
    {
     "data": {
      "text/plain": [
       "Transaction Currency\n",
       "EUR    2498.701033\n",
       "INR    2475.684095\n",
       "USD    2515.217093\n",
       "Name: Transaction Amount, dtype: float64"
      ]
     },
     "execution_count": 46,
     "metadata": {},
     "output_type": "execute_result"
    }
   ],
   "source": [
    "#on average basis how much transaction is happening with respect to currency\n",
    "df.groupby('Transaction Currency')['Transaction Amount'].mean()"
   ]
  },
  {
   "cell_type": "code",
   "execution_count": 47,
   "id": "4093685b",
   "metadata": {},
   "outputs": [
    {
     "data": {
      "text/plain": [
       "Card Type\n",
       "American Express    2517.011600\n",
       "MasterCard          2453.969537\n",
       "Visa                2517.806592\n",
       "Name: Transaction Amount, dtype: float64"
      ]
     },
     "execution_count": 47,
     "metadata": {},
     "output_type": "execute_result"
    }
   ],
   "source": [
    "df.groupby('Card Type')['Transaction Amount'].mean()"
   ]
  },
  {
   "cell_type": "code",
   "execution_count": 48,
   "id": "b2359134",
   "metadata": {},
   "outputs": [
    {
     "data": {
      "text/plain": [
       "Device Information\n",
       "Desktop    2471.477107\n",
       "Mobile     2495.895896\n",
       "Tablet     2522.409093\n",
       "Name: Transaction Amount, dtype: float64"
      ]
     },
     "execution_count": 48,
     "metadata": {},
     "output_type": "execute_result"
    }
   ],
   "source": [
    "df.groupby('Device Information')['Transaction Amount'].mean()"
   ]
  },
  {
   "cell_type": "code",
   "execution_count": 49,
   "id": "a54092ae",
   "metadata": {},
   "outputs": [
    {
     "data": {
      "text/plain": [
       "year\n",
       "2020    2465.059309\n",
       "2021    2523.087000\n",
       "2022    2493.990497\n",
       "2023    2505.077567\n",
       "Name: Transaction Amount, dtype: float64"
      ]
     },
     "execution_count": 49,
     "metadata": {},
     "output_type": "execute_result"
    }
   ],
   "source": [
    "df.groupby('year')['Transaction Amount'].mean()"
   ]
  },
  {
   "cell_type": "code",
   "execution_count": 50,
   "id": "1960f8a5",
   "metadata": {},
   "outputs": [
    {
     "data": {
      "text/plain": [
       "month\n",
       "1     2417.896563\n",
       "2     2502.651798\n",
       "3     2491.861098\n",
       "4     2582.557045\n",
       "5     2492.430969\n",
       "6     2500.161914\n",
       "7     2566.260915\n",
       "8     2459.274437\n",
       "9     2539.152205\n",
       "10    2539.006538\n",
       "11    2505.022677\n",
       "12    2339.572372\n",
       "Name: Transaction Amount, dtype: float64"
      ]
     },
     "execution_count": 50,
     "metadata": {},
     "output_type": "execute_result"
    }
   ],
   "source": [
    "df.groupby('month')['Transaction Amount'].mean()"
   ]
  },
  {
   "cell_type": "code",
   "execution_count": 51,
   "id": "b0dba8b0",
   "metadata": {},
   "outputs": [
    {
     "data": {
      "text/plain": [
       "day\n",
       "1     2687.810000\n",
       "2     2506.970321\n",
       "3     2325.466724\n",
       "4     2650.669174\n",
       "5     2359.891605\n",
       "6     2591.995018\n",
       "7     2538.744405\n",
       "8     2369.974163\n",
       "9     2459.205469\n",
       "10    2565.305768\n",
       "11    2460.642402\n",
       "12    2485.066618\n",
       "13    2609.052007\n",
       "14    2527.444008\n",
       "15    2403.104735\n",
       "16    2616.152650\n",
       "17    2427.800980\n",
       "18    2448.116653\n",
       "19    2484.066692\n",
       "20    2537.759372\n",
       "21    2648.616264\n",
       "22    2465.119038\n",
       "23    2446.597250\n",
       "24    2435.587636\n",
       "25    2232.056226\n",
       "26    2525.231131\n",
       "27    2533.310562\n",
       "28    2650.657363\n",
       "29    2475.145956\n",
       "30    2477.687623\n",
       "31    2368.242148\n",
       "Name: Transaction Amount, dtype: float64"
      ]
     },
     "execution_count": 51,
     "metadata": {},
     "output_type": "execute_result"
    }
   ],
   "source": [
    "df.groupby('day')['Transaction Amount'].mean()"
   ]
  },
  {
   "cell_type": "code",
   "execution_count": 52,
   "id": "cebfc232",
   "metadata": {},
   "outputs": [
    {
     "data": {
      "text/plain": [
       "hour\n",
       "0     2623.441154\n",
       "1     2509.442013\n",
       "2     2434.889662\n",
       "3     2473.364837\n",
       "4     2474.013323\n",
       "5     2411.098289\n",
       "6     2455.848363\n",
       "7     2512.520549\n",
       "8     2529.564139\n",
       "9     2373.257111\n",
       "10    2522.375362\n",
       "11    2389.358179\n",
       "12    2656.405074\n",
       "13    2542.832907\n",
       "14    2446.031553\n",
       "15    2536.344112\n",
       "16    2483.882892\n",
       "17    2493.012734\n",
       "18    2590.447983\n",
       "19    2550.442770\n",
       "20    2405.222523\n",
       "21    2400.586481\n",
       "22    2513.467216\n",
       "23    2560.375568\n",
       "Name: Transaction Amount, dtype: float64"
      ]
     },
     "execution_count": 52,
     "metadata": {},
     "output_type": "execute_result"
    }
   ],
   "source": [
    "df.groupby('hour')['Transaction Amount'].mean()"
   ]
  },
  {
   "cell_type": "code",
   "execution_count": 53,
   "id": "9b446174",
   "metadata": {},
   "outputs": [
    {
     "data": {
      "text/html": [
       "<div>\n",
       "<style scoped>\n",
       "    .dataframe tbody tr th:only-of-type {\n",
       "        vertical-align: middle;\n",
       "    }\n",
       "\n",
       "    .dataframe tbody tr th {\n",
       "        vertical-align: top;\n",
       "    }\n",
       "\n",
       "    .dataframe thead th {\n",
       "        text-align: right;\n",
       "    }\n",
       "</style>\n",
       "<table border=\"1\" class=\"dataframe\">\n",
       "  <thead>\n",
       "    <tr style=\"text-align: right;\">\n",
       "      <th></th>\n",
       "      <th>year</th>\n",
       "      <th>Card Type</th>\n",
       "      <th>mean</th>\n",
       "    </tr>\n",
       "  </thead>\n",
       "  <tbody>\n",
       "    <tr>\n",
       "      <th>0</th>\n",
       "      <td>2020</td>\n",
       "      <td>American Express</td>\n",
       "      <td>2473.090243</td>\n",
       "    </tr>\n",
       "    <tr>\n",
       "      <th>1</th>\n",
       "      <td>2020</td>\n",
       "      <td>MasterCard</td>\n",
       "      <td>2366.499472</td>\n",
       "    </tr>\n",
       "    <tr>\n",
       "      <th>2</th>\n",
       "      <td>2020</td>\n",
       "      <td>Visa</td>\n",
       "      <td>2554.189593</td>\n",
       "    </tr>\n",
       "    <tr>\n",
       "      <th>3</th>\n",
       "      <td>2021</td>\n",
       "      <td>American Express</td>\n",
       "      <td>2515.543780</td>\n",
       "    </tr>\n",
       "    <tr>\n",
       "      <th>4</th>\n",
       "      <td>2021</td>\n",
       "      <td>MasterCard</td>\n",
       "      <td>2443.501094</td>\n",
       "    </tr>\n",
       "    <tr>\n",
       "      <th>5</th>\n",
       "      <td>2021</td>\n",
       "      <td>Visa</td>\n",
       "      <td>2606.839683</td>\n",
       "    </tr>\n",
       "    <tr>\n",
       "      <th>6</th>\n",
       "      <td>2022</td>\n",
       "      <td>American Express</td>\n",
       "      <td>2539.645579</td>\n",
       "    </tr>\n",
       "    <tr>\n",
       "      <th>7</th>\n",
       "      <td>2022</td>\n",
       "      <td>MasterCard</td>\n",
       "      <td>2493.929727</td>\n",
       "    </tr>\n",
       "    <tr>\n",
       "      <th>8</th>\n",
       "      <td>2022</td>\n",
       "      <td>Visa</td>\n",
       "      <td>2447.497107</td>\n",
       "    </tr>\n",
       "    <tr>\n",
       "      <th>9</th>\n",
       "      <td>2023</td>\n",
       "      <td>American Express</td>\n",
       "      <td>2546.701445</td>\n",
       "    </tr>\n",
       "    <tr>\n",
       "      <th>10</th>\n",
       "      <td>2023</td>\n",
       "      <td>MasterCard</td>\n",
       "      <td>2526.402558</td>\n",
       "    </tr>\n",
       "    <tr>\n",
       "      <th>11</th>\n",
       "      <td>2023</td>\n",
       "      <td>Visa</td>\n",
       "      <td>2442.021726</td>\n",
       "    </tr>\n",
       "  </tbody>\n",
       "</table>\n",
       "</div>"
      ],
      "text/plain": [
       "    year         Card Type         mean\n",
       "0   2020  American Express  2473.090243\n",
       "1   2020        MasterCard  2366.499472\n",
       "2   2020              Visa  2554.189593\n",
       "3   2021  American Express  2515.543780\n",
       "4   2021        MasterCard  2443.501094\n",
       "5   2021              Visa  2606.839683\n",
       "6   2022  American Express  2539.645579\n",
       "7   2022        MasterCard  2493.929727\n",
       "8   2022              Visa  2447.497107\n",
       "9   2023  American Express  2546.701445\n",
       "10  2023        MasterCard  2526.402558\n",
       "11  2023              Visa  2442.021726"
      ]
     },
     "execution_count": 53,
     "metadata": {},
     "output_type": "execute_result"
    }
   ],
   "source": [
    "df.groupby(['year','Card Type'])['Transaction Amount'].mean().reset_index(name='mean')"
   ]
  },
  {
   "cell_type": "code",
   "execution_count": 55,
   "id": "8f7862b5",
   "metadata": {},
   "outputs": [
    {
     "data": {
      "text/html": [
       "<div>\n",
       "<style scoped>\n",
       "    .dataframe tbody tr th:only-of-type {\n",
       "        vertical-align: middle;\n",
       "    }\n",
       "\n",
       "    .dataframe tbody tr th {\n",
       "        vertical-align: top;\n",
       "    }\n",
       "\n",
       "    .dataframe thead th {\n",
       "        text-align: right;\n",
       "    }\n",
       "</style>\n",
       "<table border=\"1\" class=\"dataframe\">\n",
       "  <thead>\n",
       "    <tr style=\"text-align: right;\">\n",
       "      <th></th>\n",
       "      <th>Transaction Amount</th>\n",
       "      <th>Transaction Location (City or ZIP Code)</th>\n",
       "      <th>Transaction Currency</th>\n",
       "      <th>Card Type</th>\n",
       "      <th>Transaction Response Code</th>\n",
       "      <th>Previous Transactions</th>\n",
       "      <th>Transaction Source</th>\n",
       "      <th>Device Information</th>\n",
       "      <th>year</th>\n",
       "      <th>month</th>\n",
       "      <th>day</th>\n",
       "      <th>weekday</th>\n",
       "      <th>hour</th>\n",
       "    </tr>\n",
       "  </thead>\n",
       "  <tbody>\n",
       "    <tr>\n",
       "      <th>0</th>\n",
       "      <td>285.88</td>\n",
       "      <td>Khammam</td>\n",
       "      <td>INR</td>\n",
       "      <td>MasterCard</td>\n",
       "      <td>5</td>\n",
       "      <td>0</td>\n",
       "      <td>0</td>\n",
       "      <td>Tablet</td>\n",
       "      <td>2022</td>\n",
       "      <td>9</td>\n",
       "      <td>24</td>\n",
       "      <td>5</td>\n",
       "      <td>13</td>\n",
       "    </tr>\n",
       "    <tr>\n",
       "      <th>1</th>\n",
       "      <td>1777.32</td>\n",
       "      <td>Vasai-Virar</td>\n",
       "      <td>EUR</td>\n",
       "      <td>American Express</td>\n",
       "      <td>12</td>\n",
       "      <td>0</td>\n",
       "      <td>0</td>\n",
       "      <td>Mobile</td>\n",
       "      <td>2020</td>\n",
       "      <td>7</td>\n",
       "      <td>24</td>\n",
       "      <td>4</td>\n",
       "      <td>11</td>\n",
       "    </tr>\n",
       "    <tr>\n",
       "      <th>2</th>\n",
       "      <td>3939.01</td>\n",
       "      <td>Nangloi Jat</td>\n",
       "      <td>USD</td>\n",
       "      <td>Visa</td>\n",
       "      <td>5</td>\n",
       "      <td>3</td>\n",
       "      <td>1</td>\n",
       "      <td>Mobile</td>\n",
       "      <td>2023</td>\n",
       "      <td>3</td>\n",
       "      <td>18</td>\n",
       "      <td>5</td>\n",
       "      <td>1</td>\n",
       "    </tr>\n",
       "    <tr>\n",
       "      <th>3</th>\n",
       "      <td>376.44</td>\n",
       "      <td>Ramagundam</td>\n",
       "      <td>USD</td>\n",
       "      <td>Visa</td>\n",
       "      <td>5</td>\n",
       "      <td>2</td>\n",
       "      <td>1</td>\n",
       "      <td>Tablet</td>\n",
       "      <td>2021</td>\n",
       "      <td>1</td>\n",
       "      <td>7</td>\n",
       "      <td>3</td>\n",
       "      <td>21</td>\n",
       "    </tr>\n",
       "    <tr>\n",
       "      <th>4</th>\n",
       "      <td>1687.33</td>\n",
       "      <td>Adoni</td>\n",
       "      <td>INR</td>\n",
       "      <td>MasterCard</td>\n",
       "      <td>5</td>\n",
       "      <td>2</td>\n",
       "      <td>0</td>\n",
       "      <td>Desktop</td>\n",
       "      <td>2021</td>\n",
       "      <td>12</td>\n",
       "      <td>16</td>\n",
       "      <td>3</td>\n",
       "      <td>6</td>\n",
       "    </tr>\n",
       "    <tr>\n",
       "      <th>...</th>\n",
       "      <td>...</td>\n",
       "      <td>...</td>\n",
       "      <td>...</td>\n",
       "      <td>...</td>\n",
       "      <td>...</td>\n",
       "      <td>...</td>\n",
       "      <td>...</td>\n",
       "      <td>...</td>\n",
       "      <td>...</td>\n",
       "      <td>...</td>\n",
       "      <td>...</td>\n",
       "      <td>...</td>\n",
       "      <td>...</td>\n",
       "    </tr>\n",
       "    <tr>\n",
       "      <th>7995</th>\n",
       "      <td>2214.15</td>\n",
       "      <td>Anantapuram</td>\n",
       "      <td>EUR</td>\n",
       "      <td>Visa</td>\n",
       "      <td>5</td>\n",
       "      <td>1</td>\n",
       "      <td>0</td>\n",
       "      <td>Mobile</td>\n",
       "      <td>2020</td>\n",
       "      <td>12</td>\n",
       "      <td>17</td>\n",
       "      <td>3</td>\n",
       "      <td>20</td>\n",
       "    </tr>\n",
       "    <tr>\n",
       "      <th>7996</th>\n",
       "      <td>675.97</td>\n",
       "      <td>Guntakal</td>\n",
       "      <td>INR</td>\n",
       "      <td>Visa</td>\n",
       "      <td>0</td>\n",
       "      <td>3</td>\n",
       "      <td>1</td>\n",
       "      <td>Tablet</td>\n",
       "      <td>2022</td>\n",
       "      <td>7</td>\n",
       "      <td>4</td>\n",
       "      <td>0</td>\n",
       "      <td>5</td>\n",
       "    </tr>\n",
       "    <tr>\n",
       "      <th>7997</th>\n",
       "      <td>918.28</td>\n",
       "      <td>Udupi</td>\n",
       "      <td>USD</td>\n",
       "      <td>MasterCard</td>\n",
       "      <td>5</td>\n",
       "      <td>3</td>\n",
       "      <td>1</td>\n",
       "      <td>Tablet</td>\n",
       "      <td>2022</td>\n",
       "      <td>8</td>\n",
       "      <td>14</td>\n",
       "      <td>6</td>\n",
       "      <td>19</td>\n",
       "    </tr>\n",
       "    <tr>\n",
       "      <th>7998</th>\n",
       "      <td>3035.31</td>\n",
       "      <td>Sultan Pur Majra</td>\n",
       "      <td>EUR</td>\n",
       "      <td>American Express</td>\n",
       "      <td>0</td>\n",
       "      <td>1</td>\n",
       "      <td>1</td>\n",
       "      <td>Tablet</td>\n",
       "      <td>2021</td>\n",
       "      <td>5</td>\n",
       "      <td>16</td>\n",
       "      <td>6</td>\n",
       "      <td>18</td>\n",
       "    </tr>\n",
       "    <tr>\n",
       "      <th>7999</th>\n",
       "      <td>3354.36</td>\n",
       "      <td>Dehradun</td>\n",
       "      <td>INR</td>\n",
       "      <td>Visa</td>\n",
       "      <td>12</td>\n",
       "      <td>2</td>\n",
       "      <td>1</td>\n",
       "      <td>Mobile</td>\n",
       "      <td>2023</td>\n",
       "      <td>6</td>\n",
       "      <td>14</td>\n",
       "      <td>2</td>\n",
       "      <td>6</td>\n",
       "    </tr>\n",
       "  </tbody>\n",
       "</table>\n",
       "<p>8000 rows × 13 columns</p>\n",
       "</div>"
      ],
      "text/plain": [
       "      Transaction Amount Transaction Location (City or ZIP Code)  \\\n",
       "0                 285.88                                 Khammam   \n",
       "1                1777.32                             Vasai-Virar   \n",
       "2                3939.01                             Nangloi Jat   \n",
       "3                 376.44                              Ramagundam   \n",
       "4                1687.33                                   Adoni   \n",
       "...                  ...                                     ...   \n",
       "7995             2214.15                             Anantapuram   \n",
       "7996              675.97                                Guntakal   \n",
       "7997              918.28                                   Udupi   \n",
       "7998             3035.31                        Sultan Pur Majra   \n",
       "7999             3354.36                                Dehradun   \n",
       "\n",
       "     Transaction Currency         Card Type  Transaction Response Code  \\\n",
       "0                     INR        MasterCard                          5   \n",
       "1                     EUR  American Express                         12   \n",
       "2                     USD              Visa                          5   \n",
       "3                     USD              Visa                          5   \n",
       "4                     INR        MasterCard                          5   \n",
       "...                   ...               ...                        ...   \n",
       "7995                  EUR              Visa                          5   \n",
       "7996                  INR              Visa                          0   \n",
       "7997                  USD        MasterCard                          5   \n",
       "7998                  EUR  American Express                          0   \n",
       "7999                  INR              Visa                         12   \n",
       "\n",
       "     Previous Transactions  Transaction Source Device Information  year  \\\n",
       "0                        0                   0             Tablet  2022   \n",
       "1                        0                   0             Mobile  2020   \n",
       "2                        3                   1             Mobile  2023   \n",
       "3                        2                   1             Tablet  2021   \n",
       "4                        2                   0            Desktop  2021   \n",
       "...                    ...                 ...                ...   ...   \n",
       "7995                     1                   0             Mobile  2020   \n",
       "7996                     3                   1             Tablet  2022   \n",
       "7997                     3                   1             Tablet  2022   \n",
       "7998                     1                   1             Tablet  2021   \n",
       "7999                     2                   1             Mobile  2023   \n",
       "\n",
       "      month  day  weekday  hour  \n",
       "0         9   24        5    13  \n",
       "1         7   24        4    11  \n",
       "2         3   18        5     1  \n",
       "3         1    7        3    21  \n",
       "4        12   16        3     6  \n",
       "...     ...  ...      ...   ...  \n",
       "7995     12   17        3    20  \n",
       "7996      7    4        0     5  \n",
       "7997      8   14        6    19  \n",
       "7998      5   16        6    18  \n",
       "7999      6   14        2     6  \n",
       "\n",
       "[8000 rows x 13 columns]"
      ]
     },
     "execution_count": 55,
     "metadata": {},
     "output_type": "execute_result"
    }
   ],
   "source": [
    "#separating the target and feature\n",
    "features=df.drop(['Fraud Flag or Label'],axis=1)\n",
    "features"
   ]
  },
  {
   "cell_type": "code",
   "execution_count": 56,
   "id": "ff9faed3",
   "metadata": {},
   "outputs": [
    {
     "data": {
      "text/plain": [
       "0       1\n",
       "1       1\n",
       "2       1\n",
       "3       0\n",
       "4       1\n",
       "       ..\n",
       "7995    0\n",
       "7996    1\n",
       "7997    1\n",
       "7998    1\n",
       "7999    0\n",
       "Name: Fraud Flag or Label, Length: 8000, dtype: int64"
      ]
     },
     "execution_count": 56,
     "metadata": {},
     "output_type": "execute_result"
    }
   ],
   "source": [
    "Target=df['Fraud Flag or Label']\n",
    "Target"
   ]
  },
  {
   "cell_type": "code",
   "execution_count": 59,
   "id": "40a81272",
   "metadata": {},
   "outputs": [],
   "source": [
    "features.drop('Transaction Location (City or ZIP Code)',axis=1,inplace=True)"
   ]
  },
  {
   "cell_type": "code",
   "execution_count": 60,
   "id": "53c4ec87",
   "metadata": {},
   "outputs": [
    {
     "data": {
      "text/html": [
       "<div>\n",
       "<style scoped>\n",
       "    .dataframe tbody tr th:only-of-type {\n",
       "        vertical-align: middle;\n",
       "    }\n",
       "\n",
       "    .dataframe tbody tr th {\n",
       "        vertical-align: top;\n",
       "    }\n",
       "\n",
       "    .dataframe thead th {\n",
       "        text-align: right;\n",
       "    }\n",
       "</style>\n",
       "<table border=\"1\" class=\"dataframe\">\n",
       "  <thead>\n",
       "    <tr style=\"text-align: right;\">\n",
       "      <th></th>\n",
       "      <th>Transaction Amount</th>\n",
       "      <th>Transaction Currency</th>\n",
       "      <th>Card Type</th>\n",
       "      <th>Transaction Response Code</th>\n",
       "      <th>Previous Transactions</th>\n",
       "      <th>Transaction Source</th>\n",
       "      <th>Device Information</th>\n",
       "      <th>year</th>\n",
       "      <th>month</th>\n",
       "      <th>day</th>\n",
       "      <th>weekday</th>\n",
       "      <th>hour</th>\n",
       "    </tr>\n",
       "  </thead>\n",
       "  <tbody>\n",
       "    <tr>\n",
       "      <th>0</th>\n",
       "      <td>285.88</td>\n",
       "      <td>INR</td>\n",
       "      <td>MasterCard</td>\n",
       "      <td>5</td>\n",
       "      <td>0</td>\n",
       "      <td>0</td>\n",
       "      <td>Tablet</td>\n",
       "      <td>2022</td>\n",
       "      <td>9</td>\n",
       "      <td>24</td>\n",
       "      <td>5</td>\n",
       "      <td>13</td>\n",
       "    </tr>\n",
       "    <tr>\n",
       "      <th>1</th>\n",
       "      <td>1777.32</td>\n",
       "      <td>EUR</td>\n",
       "      <td>American Express</td>\n",
       "      <td>12</td>\n",
       "      <td>0</td>\n",
       "      <td>0</td>\n",
       "      <td>Mobile</td>\n",
       "      <td>2020</td>\n",
       "      <td>7</td>\n",
       "      <td>24</td>\n",
       "      <td>4</td>\n",
       "      <td>11</td>\n",
       "    </tr>\n",
       "    <tr>\n",
       "      <th>2</th>\n",
       "      <td>3939.01</td>\n",
       "      <td>USD</td>\n",
       "      <td>Visa</td>\n",
       "      <td>5</td>\n",
       "      <td>3</td>\n",
       "      <td>1</td>\n",
       "      <td>Mobile</td>\n",
       "      <td>2023</td>\n",
       "      <td>3</td>\n",
       "      <td>18</td>\n",
       "      <td>5</td>\n",
       "      <td>1</td>\n",
       "    </tr>\n",
       "    <tr>\n",
       "      <th>3</th>\n",
       "      <td>376.44</td>\n",
       "      <td>USD</td>\n",
       "      <td>Visa</td>\n",
       "      <td>5</td>\n",
       "      <td>2</td>\n",
       "      <td>1</td>\n",
       "      <td>Tablet</td>\n",
       "      <td>2021</td>\n",
       "      <td>1</td>\n",
       "      <td>7</td>\n",
       "      <td>3</td>\n",
       "      <td>21</td>\n",
       "    </tr>\n",
       "    <tr>\n",
       "      <th>4</th>\n",
       "      <td>1687.33</td>\n",
       "      <td>INR</td>\n",
       "      <td>MasterCard</td>\n",
       "      <td>5</td>\n",
       "      <td>2</td>\n",
       "      <td>0</td>\n",
       "      <td>Desktop</td>\n",
       "      <td>2021</td>\n",
       "      <td>12</td>\n",
       "      <td>16</td>\n",
       "      <td>3</td>\n",
       "      <td>6</td>\n",
       "    </tr>\n",
       "    <tr>\n",
       "      <th>...</th>\n",
       "      <td>...</td>\n",
       "      <td>...</td>\n",
       "      <td>...</td>\n",
       "      <td>...</td>\n",
       "      <td>...</td>\n",
       "      <td>...</td>\n",
       "      <td>...</td>\n",
       "      <td>...</td>\n",
       "      <td>...</td>\n",
       "      <td>...</td>\n",
       "      <td>...</td>\n",
       "      <td>...</td>\n",
       "    </tr>\n",
       "    <tr>\n",
       "      <th>7995</th>\n",
       "      <td>2214.15</td>\n",
       "      <td>EUR</td>\n",
       "      <td>Visa</td>\n",
       "      <td>5</td>\n",
       "      <td>1</td>\n",
       "      <td>0</td>\n",
       "      <td>Mobile</td>\n",
       "      <td>2020</td>\n",
       "      <td>12</td>\n",
       "      <td>17</td>\n",
       "      <td>3</td>\n",
       "      <td>20</td>\n",
       "    </tr>\n",
       "    <tr>\n",
       "      <th>7996</th>\n",
       "      <td>675.97</td>\n",
       "      <td>INR</td>\n",
       "      <td>Visa</td>\n",
       "      <td>0</td>\n",
       "      <td>3</td>\n",
       "      <td>1</td>\n",
       "      <td>Tablet</td>\n",
       "      <td>2022</td>\n",
       "      <td>7</td>\n",
       "      <td>4</td>\n",
       "      <td>0</td>\n",
       "      <td>5</td>\n",
       "    </tr>\n",
       "    <tr>\n",
       "      <th>7997</th>\n",
       "      <td>918.28</td>\n",
       "      <td>USD</td>\n",
       "      <td>MasterCard</td>\n",
       "      <td>5</td>\n",
       "      <td>3</td>\n",
       "      <td>1</td>\n",
       "      <td>Tablet</td>\n",
       "      <td>2022</td>\n",
       "      <td>8</td>\n",
       "      <td>14</td>\n",
       "      <td>6</td>\n",
       "      <td>19</td>\n",
       "    </tr>\n",
       "    <tr>\n",
       "      <th>7998</th>\n",
       "      <td>3035.31</td>\n",
       "      <td>EUR</td>\n",
       "      <td>American Express</td>\n",
       "      <td>0</td>\n",
       "      <td>1</td>\n",
       "      <td>1</td>\n",
       "      <td>Tablet</td>\n",
       "      <td>2021</td>\n",
       "      <td>5</td>\n",
       "      <td>16</td>\n",
       "      <td>6</td>\n",
       "      <td>18</td>\n",
       "    </tr>\n",
       "    <tr>\n",
       "      <th>7999</th>\n",
       "      <td>3354.36</td>\n",
       "      <td>INR</td>\n",
       "      <td>Visa</td>\n",
       "      <td>12</td>\n",
       "      <td>2</td>\n",
       "      <td>1</td>\n",
       "      <td>Mobile</td>\n",
       "      <td>2023</td>\n",
       "      <td>6</td>\n",
       "      <td>14</td>\n",
       "      <td>2</td>\n",
       "      <td>6</td>\n",
       "    </tr>\n",
       "  </tbody>\n",
       "</table>\n",
       "<p>8000 rows × 12 columns</p>\n",
       "</div>"
      ],
      "text/plain": [
       "      Transaction Amount Transaction Currency         Card Type  \\\n",
       "0                 285.88                  INR        MasterCard   \n",
       "1                1777.32                  EUR  American Express   \n",
       "2                3939.01                  USD              Visa   \n",
       "3                 376.44                  USD              Visa   \n",
       "4                1687.33                  INR        MasterCard   \n",
       "...                  ...                  ...               ...   \n",
       "7995             2214.15                  EUR              Visa   \n",
       "7996              675.97                  INR              Visa   \n",
       "7997              918.28                  USD        MasterCard   \n",
       "7998             3035.31                  EUR  American Express   \n",
       "7999             3354.36                  INR              Visa   \n",
       "\n",
       "      Transaction Response Code Previous Transactions  Transaction Source  \\\n",
       "0                             5                     0                   0   \n",
       "1                            12                     0                   0   \n",
       "2                             5                     3                   1   \n",
       "3                             5                     2                   1   \n",
       "4                             5                     2                   0   \n",
       "...                         ...                   ...                 ...   \n",
       "7995                          5                     1                   0   \n",
       "7996                          0                     3                   1   \n",
       "7997                          5                     3                   1   \n",
       "7998                          0                     1                   1   \n",
       "7999                         12                     2                   1   \n",
       "\n",
       "     Device Information  year  month  day  weekday  hour  \n",
       "0                Tablet  2022      9   24        5    13  \n",
       "1                Mobile  2020      7   24        4    11  \n",
       "2                Mobile  2023      3   18        5     1  \n",
       "3                Tablet  2021      1    7        3    21  \n",
       "4               Desktop  2021     12   16        3     6  \n",
       "...                 ...   ...    ...  ...      ...   ...  \n",
       "7995             Mobile  2020     12   17        3    20  \n",
       "7996             Tablet  2022      7    4        0     5  \n",
       "7997             Tablet  2022      8   14        6    19  \n",
       "7998             Tablet  2021      5   16        6    18  \n",
       "7999             Mobile  2023      6   14        2     6  \n",
       "\n",
       "[8000 rows x 12 columns]"
      ]
     },
     "execution_count": 60,
     "metadata": {},
     "output_type": "execute_result"
    }
   ],
   "source": [
    "features"
   ]
  },
  {
   "cell_type": "code",
   "execution_count": 61,
   "id": "24c8f6c0",
   "metadata": {},
   "outputs": [],
   "source": [
    "#categorical encoding\n",
    "#we have performed one hot encoder,which is used to encode the given data\n",
    "#we have used column transformer function to transform the data into respective column after applying\n",
    "#one hot encoder,this column transformer function is helping us to apply one hot encoder on respective columns only\n",
    "from sklearn.preprocessing import OneHotEncoder\n",
    "from sklearn.compose import ColumnTransformer\n",
    "ct=ColumnTransformer(transformers=[('encoder',OneHotEncoder(),[1,2,6])],remainder='passthrough')\n",
    "features_new=ct.fit_transform(features)"
   ]
  },
  {
   "cell_type": "code",
   "execution_count": 62,
   "id": "1ebb8f8d",
   "metadata": {},
   "outputs": [
    {
     "data": {
      "text/plain": [
       "(8000, 18)"
      ]
     },
     "execution_count": 62,
     "metadata": {},
     "output_type": "execute_result"
    }
   ],
   "source": [
    "features_new.shape"
   ]
  },
  {
   "cell_type": "code",
   "execution_count": 63,
   "id": "d1d74515",
   "metadata": {},
   "outputs": [
    {
     "data": {
      "text/plain": [
       "array([[0.0, 1.0, 0.0, ..., 24, 5, 13],\n",
       "       [1.0, 0.0, 0.0, ..., 24, 4, 11],\n",
       "       [0.0, 0.0, 1.0, ..., 18, 5, 1],\n",
       "       ...,\n",
       "       [0.0, 0.0, 1.0, ..., 14, 6, 19],\n",
       "       [1.0, 0.0, 0.0, ..., 16, 6, 18],\n",
       "       [0.0, 1.0, 0.0, ..., 14, 2, 6]], dtype=object)"
      ]
     },
     "execution_count": 63,
     "metadata": {},
     "output_type": "execute_result"
    }
   ],
   "source": [
    "features_new"
   ]
  },
  {
   "cell_type": "code",
   "execution_count": 64,
   "id": "5a1c7019",
   "metadata": {},
   "outputs": [],
   "source": [
    "from sklearn.preprocessing import StandardScaler\n",
    "ss=StandardScaler()\n",
    "final_features=ss.fit_transform(features_new)"
   ]
  },
  {
   "cell_type": "code",
   "execution_count": 65,
   "id": "abab2746",
   "metadata": {},
   "outputs": [
    {
     "data": {
      "text/plain": [
       "array([[-0.70220683,  1.39598181, -0.70280218, ...,  0.95548428,\n",
       "         1.00322668,  0.20071676],\n",
       "       [ 1.42408184, -0.71634171, -0.70280218, ...,  0.95548428,\n",
       "         0.50404684, -0.08759172],\n",
       "       [-0.70220683, -0.71634171,  1.42287549, ...,  0.27746519,\n",
       "         1.00322668, -1.52913409],\n",
       "       ...,\n",
       "       [-0.70220683, -0.71634171,  1.42287549, ..., -0.17454754,\n",
       "         1.50240652,  1.06564218],\n",
       "       [ 1.42408184, -0.71634171, -0.70280218, ...,  0.05145882,\n",
       "         1.50240652,  0.92148794],\n",
       "       [-0.70220683,  1.39598181, -0.70280218, ..., -0.17454754,\n",
       "        -0.49431284, -0.8083629 ]])"
      ]
     },
     "execution_count": 65,
     "metadata": {},
     "output_type": "execute_result"
    }
   ],
   "source": [
    "final_features"
   ]
  },
  {
   "cell_type": "code",
   "execution_count": 66,
   "id": "871768c8",
   "metadata": {},
   "outputs": [],
   "source": [
    "#spliting the training and testing data\n",
    "from sklearn.model_selection import train_test_split\n",
    "X_train,X_test,Y_train,Y_test=train_test_split(final_features,Target,test_size=0.2)"
   ]
  },
  {
   "cell_type": "code",
   "execution_count": null,
   "id": "88e26d62",
   "metadata": {},
   "outputs": [],
   "source": [
    "#apply logestic regression"
   ]
  },
  {
   "cell_type": "code",
   "execution_count": 68,
   "id": "21fd8a38",
   "metadata": {},
   "outputs": [
    {
     "data": {
      "text/html": [
       "<style>#sk-container-id-1 {color: black;}#sk-container-id-1 pre{padding: 0;}#sk-container-id-1 div.sk-toggleable {background-color: white;}#sk-container-id-1 label.sk-toggleable__label {cursor: pointer;display: block;width: 100%;margin-bottom: 0;padding: 0.3em;box-sizing: border-box;text-align: center;}#sk-container-id-1 label.sk-toggleable__label-arrow:before {content: \"▸\";float: left;margin-right: 0.25em;color: #696969;}#sk-container-id-1 label.sk-toggleable__label-arrow:hover:before {color: black;}#sk-container-id-1 div.sk-estimator:hover label.sk-toggleable__label-arrow:before {color: black;}#sk-container-id-1 div.sk-toggleable__content {max-height: 0;max-width: 0;overflow: hidden;text-align: left;background-color: #f0f8ff;}#sk-container-id-1 div.sk-toggleable__content pre {margin: 0.2em;color: black;border-radius: 0.25em;background-color: #f0f8ff;}#sk-container-id-1 input.sk-toggleable__control:checked~div.sk-toggleable__content {max-height: 200px;max-width: 100%;overflow: auto;}#sk-container-id-1 input.sk-toggleable__control:checked~label.sk-toggleable__label-arrow:before {content: \"▾\";}#sk-container-id-1 div.sk-estimator input.sk-toggleable__control:checked~label.sk-toggleable__label {background-color: #d4ebff;}#sk-container-id-1 div.sk-label input.sk-toggleable__control:checked~label.sk-toggleable__label {background-color: #d4ebff;}#sk-container-id-1 input.sk-hidden--visually {border: 0;clip: rect(1px 1px 1px 1px);clip: rect(1px, 1px, 1px, 1px);height: 1px;margin: -1px;overflow: hidden;padding: 0;position: absolute;width: 1px;}#sk-container-id-1 div.sk-estimator {font-family: monospace;background-color: #f0f8ff;border: 1px dotted black;border-radius: 0.25em;box-sizing: border-box;margin-bottom: 0.5em;}#sk-container-id-1 div.sk-estimator:hover {background-color: #d4ebff;}#sk-container-id-1 div.sk-parallel-item::after {content: \"\";width: 100%;border-bottom: 1px solid gray;flex-grow: 1;}#sk-container-id-1 div.sk-label:hover label.sk-toggleable__label {background-color: #d4ebff;}#sk-container-id-1 div.sk-serial::before {content: \"\";position: absolute;border-left: 1px solid gray;box-sizing: border-box;top: 0;bottom: 0;left: 50%;z-index: 0;}#sk-container-id-1 div.sk-serial {display: flex;flex-direction: column;align-items: center;background-color: white;padding-right: 0.2em;padding-left: 0.2em;position: relative;}#sk-container-id-1 div.sk-item {position: relative;z-index: 1;}#sk-container-id-1 div.sk-parallel {display: flex;align-items: stretch;justify-content: center;background-color: white;position: relative;}#sk-container-id-1 div.sk-item::before, #sk-container-id-1 div.sk-parallel-item::before {content: \"\";position: absolute;border-left: 1px solid gray;box-sizing: border-box;top: 0;bottom: 0;left: 50%;z-index: -1;}#sk-container-id-1 div.sk-parallel-item {display: flex;flex-direction: column;z-index: 1;position: relative;background-color: white;}#sk-container-id-1 div.sk-parallel-item:first-child::after {align-self: flex-end;width: 50%;}#sk-container-id-1 div.sk-parallel-item:last-child::after {align-self: flex-start;width: 50%;}#sk-container-id-1 div.sk-parallel-item:only-child::after {width: 0;}#sk-container-id-1 div.sk-dashed-wrapped {border: 1px dashed gray;margin: 0 0.4em 0.5em 0.4em;box-sizing: border-box;padding-bottom: 0.4em;background-color: white;}#sk-container-id-1 div.sk-label label {font-family: monospace;font-weight: bold;display: inline-block;line-height: 1.2em;}#sk-container-id-1 div.sk-label-container {text-align: center;}#sk-container-id-1 div.sk-container {/* jupyter's `normalize.less` sets `[hidden] { display: none; }` but bootstrap.min.css set `[hidden] { display: none !important; }` so we also need the `!important` here to be able to override the default hidden behavior on the sphinx rendered scikit-learn.org. See: https://github.com/scikit-learn/scikit-learn/issues/21755 */display: inline-block !important;position: relative;}#sk-container-id-1 div.sk-text-repr-fallback {display: none;}</style><div id=\"sk-container-id-1\" class=\"sk-top-container\"><div class=\"sk-text-repr-fallback\"><pre>LogisticRegression()</pre><b>In a Jupyter environment, please rerun this cell to show the HTML representation or trust the notebook. <br />On GitHub, the HTML representation is unable to render, please try loading this page with nbviewer.org.</b></div><div class=\"sk-container\" hidden><div class=\"sk-item\"><div class=\"sk-estimator sk-toggleable\"><input class=\"sk-toggleable__control sk-hidden--visually\" id=\"sk-estimator-id-1\" type=\"checkbox\" checked><label for=\"sk-estimator-id-1\" class=\"sk-toggleable__label sk-toggleable__label-arrow\">LogisticRegression</label><div class=\"sk-toggleable__content\"><pre>LogisticRegression()</pre></div></div></div></div></div>"
      ],
      "text/plain": [
       "LogisticRegression()"
      ]
     },
     "execution_count": 68,
     "metadata": {},
     "output_type": "execute_result"
    }
   ],
   "source": [
    "from sklearn.linear_model import LogisticRegression\n",
    "lr=LogisticRegression()\n",
    "lr.fit(X_train,Y_train)"
   ]
  },
  {
   "cell_type": "code",
   "execution_count": 69,
   "id": "ebf80971",
   "metadata": {},
   "outputs": [
    {
     "data": {
      "text/plain": [
       "array([0, 0, 1, ..., 0, 1, 1], dtype=int64)"
      ]
     },
     "execution_count": 69,
     "metadata": {},
     "output_type": "execute_result"
    }
   ],
   "source": [
    "Y_predict=lr.predict(X_test)\n",
    "Y_predict"
   ]
  },
  {
   "cell_type": "code",
   "execution_count": 71,
   "id": "bcab6842",
   "metadata": {},
   "outputs": [
    {
     "name": "stdout",
     "output_type": "stream",
     "text": [
      "[[440 355]\n",
      " [425 380]]\n"
     ]
    }
   ],
   "source": [
    "from sklearn.metrics import classification_report,confusion_matrix\n",
    "print(confusion_matrix(Y_test,Y_predict))"
   ]
  },
  {
   "cell_type": "code",
   "execution_count": 72,
   "id": "c2965167",
   "metadata": {},
   "outputs": [
    {
     "name": "stdout",
     "output_type": "stream",
     "text": [
      "              precision    recall  f1-score   support\n",
      "\n",
      "           0       0.51      0.55      0.53       795\n",
      "           1       0.52      0.47      0.49       805\n",
      "\n",
      "    accuracy                           0.51      1600\n",
      "   macro avg       0.51      0.51      0.51      1600\n",
      "weighted avg       0.51      0.51      0.51      1600\n",
      "\n"
     ]
    }
   ],
   "source": [
    "print(classification_report(Y_test,Y_predict))"
   ]
  },
  {
   "cell_type": "code",
   "execution_count": 73,
   "id": "a1b28a41",
   "metadata": {},
   "outputs": [
    {
     "data": {
      "text/plain": [
       "array([0.50546875, 0.4875    , 0.4921875 , 0.50703125, 0.5109375 ])"
      ]
     },
     "execution_count": 73,
     "metadata": {},
     "output_type": "execute_result"
    }
   ],
   "source": [
    "from sklearn.model_selection import cross_val_score\n",
    "cross_val_score(lr,X_train,Y_train,cv=5)"
   ]
  },
  {
   "cell_type": "code",
   "execution_count": 74,
   "id": "1adab1be",
   "metadata": {},
   "outputs": [
    {
     "data": {
      "text/plain": [
       "array([0.503125, 0.54375 , 0.490625, 0.5     , 0.475   ])"
      ]
     },
     "execution_count": 74,
     "metadata": {},
     "output_type": "execute_result"
    }
   ],
   "source": [
    "cross_val_score(lr,X_test,Y_test,cv=5)"
   ]
  },
  {
   "cell_type": "code",
   "execution_count": null,
   "id": "7e38df60",
   "metadata": {},
   "outputs": [],
   "source": []
  },
  {
   "cell_type": "code",
   "execution_count": null,
   "id": "293aec5c",
   "metadata": {},
   "outputs": [],
   "source": []
  },
  {
   "cell_type": "code",
   "execution_count": null,
   "id": "e5294ae6",
   "metadata": {},
   "outputs": [],
   "source": []
  },
  {
   "cell_type": "code",
   "execution_count": null,
   "id": "fb6d0973",
   "metadata": {},
   "outputs": [],
   "source": []
  }
 ],
 "metadata": {
  "kernelspec": {
   "display_name": "Python 3 (ipykernel)",
   "language": "python",
   "name": "python3"
  },
  "language_info": {
   "codemirror_mode": {
    "name": "ipython",
    "version": 3
   },
   "file_extension": ".py",
   "mimetype": "text/x-python",
   "name": "python",
   "nbconvert_exporter": "python",
   "pygments_lexer": "ipython3",
   "version": "3.11.4"
  }
 },
 "nbformat": 4,
 "nbformat_minor": 5
}
